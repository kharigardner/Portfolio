{
 "cells": [
  {
   "cell_type": "markdown",
   "metadata": {},
   "source": [
    "Online Chess Games\n",
    "Data for 20,000+ chess games played on Lichess, including moves, victor, rating, opening details and more.\n",
    "\n",
    "Recommended Analysis\n",
    "What percentage of games were won by white? How many ended in a draw?\n",
    "\n",
    "Which opening move was most frequently used in games in which black won? What about when white won?\n",
    "\n",
    "What percentage of games are won by the player with the higher rating? Does this vary by piece color?\n",
    "\n",
    "Which user won the most amount of games? In what percentage of those games was the user the higher rated player?\n",
    "\n",
    "Want feedback on your solutions?"
   ]
  },
  {
   "cell_type": "code",
   "execution_count": null,
   "metadata": {},
   "outputs": [],
   "source": []
  }
 ],
 "metadata": {
  "kernelspec": {
   "display_name": "Python 3.10.6 64-bit",
   "language": "python",
   "name": "python3"
  },
  "language_info": {
   "name": "python",
   "version": "3.10.6"
  },
  "orig_nbformat": 4,
  "vscode": {
   "interpreter": {
    "hash": "a868c7b5e764df763835f2d7fe3ad9b3133e91b7537e39ca114cb9be866ed938"
   }
  }
 },
 "nbformat": 4,
 "nbformat_minor": 2
}

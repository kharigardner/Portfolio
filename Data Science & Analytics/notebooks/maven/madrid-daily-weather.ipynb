{
 "cells": [
  {
   "cell_type": "markdown",
   "metadata": {},
   "source": [
    "Madrid Daily Weather\n",
    "Daily weather conditions in Madrid from 1997-2015, including max/min/mean temperature, dew point, humidity, visibility, and wind speed, along with precipitation events, cloud cover and wind direction.\n",
    "\n",
    "Recommended Analysis\n",
    "During the time period in this sample, what % of days had some sort of precipitation event? What % were clear?\n",
    "\n",
    "Suppose you're planning a vacation to Madrid and hoping for the warmest temperature. Which month might you plan to travel?\n",
    "\n",
    "On which date in the sample did Madrid see the fastest wind gust? What was the weather like on that day?\n",
    "\n",
    "How does the average visibility (Km) compare for clear days vs. foggy days"
   ]
  },
  {
   "cell_type": "code",
   "execution_count": null,
   "metadata": {},
   "outputs": [],
   "source": []
  }
 ],
 "metadata": {
  "language_info": {
   "name": "python"
  },
  "orig_nbformat": 4
 },
 "nbformat": 4,
 "nbformat_minor": 2
}

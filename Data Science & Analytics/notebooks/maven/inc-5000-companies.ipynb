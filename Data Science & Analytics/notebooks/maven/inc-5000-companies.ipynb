{
 "cells": [
  {
   "cell_type": "markdown",
   "metadata": {},
   "source": [
    "Inc 5000 Companies\n",
    "Dataset containing information about each company on the INC 5000 list in 2019. Fields include the company name, industry, founding year, website, and location, as well as 2019 revenue, % growth, number of workers (year-over-year), and the number of years on the list.\n",
    "\n",
    "Recommended Analysis\n",
    "What's the average revenue among companies on the list? Broken down by industry?\n",
    "\n",
    "Which industries are most and least represented in the list?\n",
    "\n",
    "Do you notice any interesting geographic trends?\n",
    "\n",
    "Which industries saw the largest average growth rate?\n",
    "\n",
    "Which companies had the largest increase in staff/new hires?\n",
    "\n",
    "Did any companies increase revenue while reducing staff?"
   ]
  },
  {
   "cell_type": "code",
   "execution_count": null,
   "metadata": {},
   "outputs": [],
   "source": []
  }
 ],
 "metadata": {
  "kernelspec": {
   "display_name": "Python 3.10.6 64-bit",
   "language": "python",
   "name": "python3"
  },
  "language_info": {
   "name": "python",
   "version": "3.10.6"
  },
  "orig_nbformat": 4,
  "vscode": {
   "interpreter": {
    "hash": "a868c7b5e764df763835f2d7fe3ad9b3133e91b7537e39ca114cb9be866ed938"
   }
  }
 },
 "nbformat": 4,
 "nbformat_minor": 2
}

{
 "cells": [
  {
   "cell_type": "markdown",
   "metadata": {},
   "source": [
    "Mexico Toy Sales\n",
    "Sales & inventory data for a fictitious chain of toy stores in Mexico called Maven Toys, including information about products, stores, daily sales transactions, and current inventory levels at each location.\n",
    "\n",
    "Recommended Analysis\n",
    "Which product categories drive the biggest profits? Is this the same across store locations?\n",
    "\n",
    "Can you find any seasonal trends or patterns in the sales data?\n",
    "\n",
    "Are sales being lost with out-of-stock products at certain locations?\n",
    "\n",
    "How much money is tied up in inventory at the toy stores? How long will it last?"
   ]
  },
  {
   "cell_type": "code",
   "execution_count": null,
   "metadata": {},
   "outputs": [],
   "source": []
  }
 ],
 "metadata": {
  "kernelspec": {
   "display_name": "Python 3.10.6 64-bit",
   "language": "python",
   "name": "python3"
  },
  "language_info": {
   "name": "python",
   "version": "3.10.6"
  },
  "orig_nbformat": 4,
  "vscode": {
   "interpreter": {
    "hash": "a868c7b5e764df763835f2d7fe3ad9b3133e91b7537e39ca114cb9be866ed938"
   }
  }
 },
 "nbformat": 4,
 "nbformat_minor": 2
}

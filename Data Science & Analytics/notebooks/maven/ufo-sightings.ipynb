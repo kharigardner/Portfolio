{
 "cells": [
  {
   "cell_type": "markdown",
   "metadata": {},
   "source": [
    "UFO Sightings\n",
    "Table containing 80,000+ records of UFO sightings between 1949 and 2014, including city, state, country, lat/long, shape, duration, date/time, and comments\n",
    "\n",
    "Recommended Analysis\n",
    "1-3 are pretty straight forward. The data need for those questions is clean.\n",
    "\n",
    "4 & 5 will require you to practice your data cleaning skills. The data is pretty raw, and will need some work before you analyze it.\n",
    "\n",
    "Figure out which shapes of UFOs tend to be seen most often.\n",
    "\n",
    "Take a look at data since the year 2000. How have annual sightings trended?\n",
    "\n",
    "Dig into the US data. Which states report the most UFO sightings? What do you think about this?\n",
    "\n",
    "Create a histogram to understand the distribution of the duration of UFO sightings (you'll need to do some cleaning first)\n",
    "\n",
    "Look at the data in the comments column. What other interesting insights can you pull out of this data?"
   ]
  },
  {
   "cell_type": "code",
   "execution_count": null,
   "metadata": {},
   "outputs": [],
   "source": []
  }
 ],
 "metadata": {
  "language_info": {
   "name": "python"
  },
  "orig_nbformat": 4
 },
 "nbformat": 4,
 "nbformat_minor": 2
}

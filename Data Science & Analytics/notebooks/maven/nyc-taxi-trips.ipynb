{
 "cells": [
  {
   "cell_type": "markdown",
   "metadata": {},
   "source": [
    "NYC Taxi Trips\n",
    "Trip records from all green taxis in NYC in from 2017 to 2020. Records include fields capturing pick-up and drop-off dates/times, pick-up and drop-off locations, trip distances, itemized fares, rate types, payment types, and driver-reported passenger counts.\n",
    "\n",
    "Recommended Analysis\n",
    "What is the average number of trips per week?\n",
    "\n",
    "What is the average distance traveled per tip?\n",
    "\n",
    "Which days of the week and times of the day will be busiest?\n",
    "\n",
    "What are the most popular pick-up and drop-off locations?"
   ]
  },
  {
   "cell_type": "code",
   "execution_count": null,
   "metadata": {},
   "outputs": [],
   "source": []
  }
 ],
 "metadata": {
  "language_info": {
   "name": "python"
  },
  "orig_nbformat": 4
 },
 "nbformat": 4,
 "nbformat_minor": 2
}

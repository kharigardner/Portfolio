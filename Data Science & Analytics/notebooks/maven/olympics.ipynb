{
 "cells": [
  {
   "cell_type": "markdown",
   "metadata": {},
   "source": [
    "120 Years of Olympic History\n",
    "Historical data on the modern Olympic Games, from Athens 1896 to Rio 2016. Each row corresponds to an individual athlete competing in an individual event, including the athlete's name, sex, age, height, weight, country, and medal, and the event's name, sport, games, year, and city.\n",
    "\n",
    "Recommended Analysis\n",
    "Analyze and visualize the % of athletes who were female over time.\n",
    "\n",
    "Compare and contrast the summer and the winter games...\n",
    "\n",
    "How many athletes compete?\n",
    "How many countries compete?\n",
    "How many events are there?\n",
    "Analyze and visualize country-level trends...\n",
    "Which countries send the most athletes to the olympics?\n",
    "Do they also tend to win the most medals?\n",
    "How have these trends changed over time?"
   ]
  },
  {
   "cell_type": "code",
   "execution_count": null,
   "metadata": {},
   "outputs": [],
   "source": []
  }
 ],
 "metadata": {
  "language_info": {
   "name": "python"
  },
  "orig_nbformat": 4
 },
 "nbformat": 4,
 "nbformat_minor": 2
}

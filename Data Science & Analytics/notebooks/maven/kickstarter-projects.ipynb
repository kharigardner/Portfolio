{
 "cells": [
  {
   "cell_type": "markdown",
   "metadata": {},
   "source": [
    "# **Kickstarter Projects**\n",
    "\n",
    "### **Introduction**\n",
    "This notebook analyzes the Kickstarter project dataset retrieved from [Maven](mavenanalytics.io).\n",
    "\n",
    "### **Dataset Description**\n",
    "Data for 375,000+ Kickstarter projects from 2009-2017, including project name, category, launch date, deadline, goal, amount pledged, number of backers, state, and country.\n",
    "\n",
    "Recommended Analysis\n",
    "Which category has the highest success percentage? How many projects have been successful?\n",
    "\n",
    "What project with a goal over $1,000 USD, had the biggest Goal Completion % (Pledged / Goal)? How much money was pledged?\n",
    "\n",
    "Can you identify any trends in project success rates over the years?\n",
    "\n",
    "As an investor, what types of projects should you be looking at to guarantee future success?"
   ]
  },
  {
   "cell_type": "code",
   "execution_count": null,
   "metadata": {},
   "outputs": [],
   "source": []
  }
 ],
 "metadata": {
  "kernelspec": {
   "display_name": "Python 3.10.6 64-bit",
   "language": "python",
   "name": "python3"
  },
  "language_info": {
   "name": "python",
   "version": "3.10.6"
  },
  "orig_nbformat": 4,
  "vscode": {
   "interpreter": {
    "hash": "a868c7b5e764df763835f2d7fe3ad9b3133e91b7537e39ca114cb9be866ed938"
   }
  }
 },
 "nbformat": 4,
 "nbformat_minor": 2
}

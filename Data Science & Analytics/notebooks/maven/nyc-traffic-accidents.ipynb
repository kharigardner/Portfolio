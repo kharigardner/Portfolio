{
 "cells": [
  {
   "cell_type": "markdown",
   "metadata": {},
   "source": [
    "NYC Traffic Accidents\n",
    "Motor vehicle collisions reported by the New York City Police Department from January-August 2020. Each record represents an individual collision, including the date, time and location of the accident (borough, zip code, street name, latitude/longitude), vehicles and victims involved, and contributing factors.\n",
    "\n",
    "Recommended Analysis\n",
    "Compare the % of total accidents by month. Do you notice any seasonal patterns?\n",
    "\n",
    "Break down accident frequency by day of week and hour of day. Based on this data, when do accidents occur most frequently?\n",
    "\n",
    "On which particular street were the most accidents reported? What does that represent as a % of all reported accidents?\n",
    "\n",
    "What was the most common contributing factor for the accidents reported in this sample (based on Vehicle 1)? What about for fatal accidents specifically?"
   ]
  },
  {
   "cell_type": "code",
   "execution_count": null,
   "metadata": {},
   "outputs": [],
   "source": []
  }
 ],
 "metadata": {
  "language_info": {
   "name": "python"
  },
  "orig_nbformat": 4
 },
 "nbformat": 4,
 "nbformat_minor": 2
}

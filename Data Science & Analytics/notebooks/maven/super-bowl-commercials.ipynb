{
 "cells": [
  {
   "cell_type": "markdown",
   "metadata": {},
   "source": [
    "Super Bowl Commercials\n",
    "Super Bowl commercials for 10 popular brands from 2000 to 2021, including links to each and additional information about the length, estimated cost, YouTube statistics, TV viewers, and defining characteristics.\n",
    "\n",
    "Recommended Analysis\n",
    "Which brand has had the most Super Bowl commercials? Do they have a distinct style?\n",
    "\n",
    "How have different characteristics for commercials trended across time?\n",
    "\n",
    "Can you identify any patterns for the most successful commercials on YouTube?\n",
    "\n",
    "Which characteristics are paired most often? Can you find any unusual combinations?"
   ]
  },
  {
   "cell_type": "code",
   "execution_count": null,
   "metadata": {},
   "outputs": [],
   "source": []
  }
 ],
 "metadata": {
  "kernelspec": {
   "display_name": "Python 3.10.6 64-bit",
   "language": "python",
   "name": "python3"
  },
  "language_info": {
   "name": "python",
   "version": "3.10.6"
  },
  "orig_nbformat": 4,
  "vscode": {
   "interpreter": {
    "hash": "a868c7b5e764df763835f2d7fe3ad9b3133e91b7537e39ca114cb9be866ed938"
   }
  }
 },
 "nbformat": 4,
 "nbformat_minor": 2
}

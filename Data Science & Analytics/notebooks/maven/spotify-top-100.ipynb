{
 "cells": [
  {
   "cell_type": "markdown",
   "metadata": {},
   "source": [
    "\n",
    "\n",
    "Spotify Top 100\n",
    "Top 100 songs in 2018, based on Spotify streaming data, including name, artist and key attributes (danceability, energy, loudness, mode, speechiness, acousticness, etc)\n",
    "\n",
    "Recommended Analysis\n",
    "Which artists had the most Top 100 songs?\n",
    "\n",
    "Are there more artists in the Top 100 with 'Lil' in their name, or with 'DJ' in their name?\n",
    "\n",
    "Which song attributes are most strongly correlated? What attributes seem to have very little correlation?\n",
    "\n",
    "Which attributes have the most variability? Which tend to be the most similar among the Top 100 songs?"
   ]
  },
  {
   "cell_type": "code",
   "execution_count": null,
   "metadata": {},
   "outputs": [],
   "source": []
  }
 ],
 "metadata": {
  "language_info": {
   "name": "python"
  },
  "orig_nbformat": 4
 },
 "nbformat": 4,
 "nbformat_minor": 2
}

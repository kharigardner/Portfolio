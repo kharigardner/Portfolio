{
 "cells": [
  {
   "cell_type": "markdown",
   "metadata": {},
   "source": [
    "S&P 500 Stock Prices\n",
    "Historical stock market data for current S&P 500 companies, from 2014-2017. Each record represents a single day of trading, and includes the ticker name, volume, high, low, open and close prices.\n",
    "\n",
    "Recommended Analysis\n",
    "Which date in the sample saw the largest overall trading volume? On that date, which two stocks were traded most?\n",
    "\n",
    "On which day of the week does volume tend to be highest? Lowest?\n",
    "\n",
    "On which date did Amazon (AMZN) see the most volatility, measured by the difference between the high and low price?\n",
    "\n",
    "If you could go back in time and invest in one stock from 1/2/2014 - 12/29/2017, which would you choose? What % gain would you realize?"
   ]
  },
  {
   "cell_type": "code",
   "execution_count": null,
   "metadata": {},
   "outputs": [],
   "source": []
  }
 ],
 "metadata": {
  "language_info": {
   "name": "python"
  },
  "orig_nbformat": 4
 },
 "nbformat": 4,
 "nbformat_minor": 2
}

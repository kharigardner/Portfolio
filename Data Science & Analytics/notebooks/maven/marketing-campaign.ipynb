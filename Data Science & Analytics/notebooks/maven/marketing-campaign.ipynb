{
 "cells": [
  {
   "cell_type": "markdown",
   "metadata": {},
   "source": [
    "Marketing Campaign Results\n",
    "Marketing campaign data of 2,240 customers of Maven Marketing, including customer profiles, product preferences, campaign successes/failures, and channel performance.\n",
    "\n",
    "Recommended Analysis\n",
    "Are there any null values or outliers? How will you handle them?\n",
    "\n",
    "What factors are significantly related to the number of web purchases?\n",
    "\n",
    "Which marketing campaign was the most successful?\n",
    "\n",
    "What does the average customer look like?\n",
    "\n",
    "Which products are performing best?\n",
    "\n",
    "Which channels are underperforming?"
   ]
  },
  {
   "cell_type": "code",
   "execution_count": null,
   "metadata": {},
   "outputs": [],
   "source": []
  }
 ],
 "metadata": {
  "kernelspec": {
   "display_name": "Python 3.10.6 64-bit",
   "language": "python",
   "name": "python3"
  },
  "language_info": {
   "name": "python",
   "version": "3.10.6"
  },
  "orig_nbformat": 4,
  "vscode": {
   "interpreter": {
    "hash": "a868c7b5e764df763835f2d7fe3ad9b3133e91b7537e39ca114cb9be866ed938"
   }
  }
 },
 "nbformat": 4,
 "nbformat_minor": 2
}

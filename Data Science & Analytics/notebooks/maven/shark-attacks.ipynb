{
 "cells": [
  {
   "cell_type": "markdown",
   "metadata": {},
   "source": [
    "Shark Attacks\n",
    "Shark attacks reported over the past 100 years, including location, activity, victim info (name, gender, age), shark species, etc.\n",
    "\n",
    "Recommended Analysis\n",
    "Make a graph of number of shark attacks annually over time since 1900. What trends do you see?\n",
    "\n",
    "Which countries report the most shark attacks? Within those countries, which areas and locations seem to be the most dangerous?\n",
    "\n",
    "The next questions will require you to practice your data cleaning skills. The data is pretty raw, and will need some work before you analyze it...\n",
    "\n",
    "What body parts are most often injured? (hint: you'll need to perform text analysis on the Injury column)\n",
    "\n",
    "Are shark attacks more common during certain parts of the day (again, the Time data isn't quite ready to go. You may need to transform it before analyzing)\n",
    "\n",
    "Which species of shark are attacking most often? (you guessed it... this data is messy too!)"
   ]
  },
  {
   "cell_type": "code",
   "execution_count": null,
   "metadata": {},
   "outputs": [],
   "source": []
  }
 ],
 "metadata": {
  "kernelspec": {
   "display_name": "Python 3.10.6 64-bit",
   "language": "python",
   "name": "python3"
  },
  "language_info": {
   "name": "python",
   "version": "3.10.6"
  },
  "orig_nbformat": 4,
  "vscode": {
   "interpreter": {
    "hash": "a868c7b5e764df763835f2d7fe3ad9b3133e91b7537e39ca114cb9be866ed938"
   }
  }
 },
 "nbformat": 4,
 "nbformat_minor": 2
}

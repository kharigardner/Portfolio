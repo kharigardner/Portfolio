{
 "cells": [
  {
   "cell_type": "markdown",
   "metadata": {},
   "source": [
    "Movie Ratings\n",
    "Ratings and reviews for 15,000+ movies reviewed by Rotten Tomatoes. Each record includes film details (title, description, rating, genre, directors, cast, release date, studio, runtime, etc.), as well as featured reviews, \"Tomatometer\" status, and audience ratings.\n",
    "\n",
    "Recommended Analysis\n",
    "What does the distribution of films look like by rating? By primary genre? (hint: use first genre listed)\n",
    "\n",
    "What % of films received a Certified Fresh Tomatometer rating? What about Rotten?\n",
    "\n",
    "Explore new film releases over time. How has the volume of releases by month trended over time? What year/month were the most new films released?\n",
    "\n",
    "Compare average Tomatometer ratings by Studio. Which studios produce the highest rated films, on average? The lowest?\n",
    "\n",
    "Compare the Tomatometer ratings against audience ratings. Which films showed the largest discrepancies between audiences and critics?\n",
    "\n",
    "Explore the critics concensus rating: what language is used most often?"
   ]
  },
  {
   "cell_type": "code",
   "execution_count": null,
   "metadata": {},
   "outputs": [],
   "source": []
  }
 ],
 "metadata": {
  "language_info": {
   "name": "python"
  },
  "orig_nbformat": 4
 },
 "nbformat": 4,
 "nbformat_minor": 2
}

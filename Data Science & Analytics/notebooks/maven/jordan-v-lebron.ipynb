{
 "cells": [
  {
   "cell_type": "markdown",
   "metadata": {},
   "source": [
    "Jordan & LeBron Career Stats\n",
    "Career game-level data for Michael Jordan and LeBron James (through October 2020) during the regular season and playoffs, including date, age, team, minutes played, and assorted stats.\n",
    "\n",
    "Recommended Analysis\n",
    "How do their regular season per game and total stats compare? What about their playoff stats?\n",
    "\n",
    "At what age did each player have their highest scoring season?\n",
    "\n",
    "How does their distribution of points scored per game compare?\n",
    "\n",
    "How have their win percentages trended by season? Who has a better win percentage in the playoffs?"
   ]
  },
  {
   "cell_type": "code",
   "execution_count": null,
   "metadata": {},
   "outputs": [],
   "source": []
  }
 ],
 "metadata": {
  "kernelspec": {
   "display_name": "Python 3.10.6 64-bit",
   "language": "python",
   "name": "python3"
  },
  "language_info": {
   "name": "python",
   "version": "3.10.6"
  },
  "orig_nbformat": 4,
  "vscode": {
   "interpreter": {
    "hash": "a868c7b5e764df763835f2d7fe3ad9b3133e91b7537e39ca114cb9be866ed938"
   }
  }
 },
 "nbformat": 4,
 "nbformat_minor": 2
}

{
 "cells": [
  {
   "cell_type": "markdown",
   "metadata": {},
   "source": [
    "World Cup\n",
    "Data from all World Cup results (1930-2014), details for each match (Date, Stage, City, Ref, Home Team, Away Team, Goals, Goals at Half, etc), and details for events (goals, assists, etc) by athlete.\n",
    "\n",
    "Recommended Analysis\n",
    "Dig into attendance data...\n",
    "How has attendance trended over time? (both average per game and total per year)\n",
    "Do certain cities tend to draw bigger crowds?\n",
    "Do certain teams see larger attendance?\n",
    "Which teams have won the most games? How has number of wins by country trended over time?\n",
    "\n",
    "Based on the Home Team and Away Team columns, does there seem to be a \"home team advantage\"?\n",
    "\n",
    "Do any teams seem to be stronger in either the first half or the second half? (think about both offense and defense)\n",
    "\n",
    "Which players had the most successful scoring careers? How about the longest careers?"
   ]
  },
  {
   "cell_type": "code",
   "execution_count": null,
   "metadata": {},
   "outputs": [],
   "source": []
  }
 ],
 "metadata": {
  "language_info": {
   "name": "python"
  },
  "orig_nbformat": 4
 },
 "nbformat": 4,
 "nbformat_minor": 2
}

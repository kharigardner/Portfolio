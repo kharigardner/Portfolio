{
 "cells": [
  {
   "cell_type": "markdown",
   "metadata": {},
   "source": [
    "Restaurant Ratings\n",
    "Restaurant ratings in Mexico by real consumers from 2012, including additional information about each restaurant and their cuisines, and each consumer and their preferences.\n",
    "\n",
    "Recommended Analysis\n",
    "What can you learn from the highest rated restaurants? Do consumer preferences have an effect on ratings?\n",
    "\n",
    "What are the consumer demographics? Does this indicate a bias in the data sample?\n",
    "\n",
    "Are there any demand & supply gaps that you can exploit in the market?\n",
    "\n",
    "If you were to invest in a restaurant, which characteristics would you be looking for?"
   ]
  },
  {
   "cell_type": "code",
   "execution_count": null,
   "metadata": {},
   "outputs": [],
   "source": []
  }
 ],
 "metadata": {
  "kernelspec": {
   "display_name": "Python 3.10.6 64-bit",
   "language": "python",
   "name": "python3"
  },
  "language_info": {
   "name": "python",
   "version": "3.10.6"
  },
  "orig_nbformat": 4,
  "vscode": {
   "interpreter": {
    "hash": "a868c7b5e764df763835f2d7fe3ad9b3133e91b7537e39ca114cb9be866ed938"
   }
  }
 },
 "nbformat": 4,
 "nbformat_minor": 2
}

{
 "cells": [
  {
   "cell_type": "markdown",
   "metadata": {},
   "source": [
    "New Year's Eve Resolutions\n",
    "2015 New Year's Eve resolutions tweets. Each record represents a single tweet and contains information about the date & time, geographic location, original text, and resolution category of the tweet.\n",
    "\n",
    "Recommended Analysis\n",
    "What is the most popular resolution category? Least popular?\n",
    "\n",
    "Which resolution category was retweeted the most? Least?\n",
    "\n",
    "Using the tweet_created field, and rounding to the nearest hour, what was the most popular hour of day to tweet? How many resolutions were tweeted?\n",
    "\n",
    "Using a map visual, what U.S. State tweeted the highest number of NYE resolutions?"
   ]
  },
  {
   "cell_type": "code",
   "execution_count": null,
   "metadata": {},
   "outputs": [],
   "source": []
  }
 ],
 "metadata": {
  "language_info": {
   "name": "python"
  },
  "orig_nbformat": 4
 },
 "nbformat": 4,
 "nbformat_minor": 2
}
